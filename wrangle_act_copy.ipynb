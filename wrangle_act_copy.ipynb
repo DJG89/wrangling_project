{
 "cells": [
  {
   "cell_type": "code",
   "execution_count": 2,
   "id": "d6b2c5de",
   "metadata": {},
   "outputs": [],
   "source": [
    "import pandas as pd\n",
    "import numpy as np"
   ]
  },
  {
   "cell_type": "code",
   "execution_count": 3,
   "id": "8e3cfa40",
   "metadata": {},
   "outputs": [],
   "source": [
    "twitter_archive_df = pd.read_csv('twitter-archive-enhanced.csv')"
   ]
  },
  {
   "cell_type": "code",
   "execution_count": null,
   "id": "3d7dc2fb",
   "metadata": {},
   "outputs": [
    {
     "name": "stdout",
     "output_type": "stream",
     "text": [
      "1: 892420643555336193\n",
      "Fail\n",
      "2: 892177421306343426\n",
      "Fail\n",
      "3: 891815181378084864\n"
     ]
    }
   ],
   "source": [
    "import tweepy\n",
    "from tweepy import OAuthHandler\n",
    "import json\n",
    "from timeit import default_timer as timer\n",
    "\n",
    "# Query Twitter API for each tweet in the Twitter archive and save JSON in a text file\n",
    "# These are hidden to comply with Twitter's API terms and conditions\n",
    "consumer_key = 'HIDDEN'\n",
    "consumer_secret = 'HIDDEN'\n",
    "access_token = 'HIDDEN'\n",
    "access_secret = 'HIDDEN'\n",
    "\n",
    "auth = OAuthHandler(consumer_key, consumer_secret)\n",
    "auth.set_access_token(access_token, access_secret)\n",
    "\n",
    "api = tweepy.API(auth, wait_on_rate_limit=True)\n",
    "\n",
    "# NOTE TO STUDENT WITH MOBILE VERIFICATION ISSUES:\n",
    "# df_1 is a DataFrame with the twitter_archive_enhanced.csv file. You may have to\n",
    "# change line 17 to match the name of your DataFrame with twitter_archive_enhanced.csv\n",
    "# NOTE TO REVIEWER: this student had mobile verification issues so the following\n",
    "# Twitter API code was sent to this student from a Udacity instructor\n",
    "# Tweet IDs for which to gather additional data via Twitter's API\n",
    "tweet_ids = twitter_archive_df.tweet_id.values\n",
    "len(tweet_ids)\n",
    "\n",
    "# Query Twitter's API for JSON data for each tweet ID in the Twitter archive\n",
    "count = 0\n",
    "fails_dict = {}\n",
    "start = timer()\n",
    "# Save each tweet's returned JSON as a new line in a .txt file\n",
    "with open('tweet_json.txt', 'w') as outfile:\n",
    "    # This loop will likely take 20-30 minutes to run because of Twitter's rate limit\n",
    "    for tweet_id in tweet_ids:\n",
    "        count += 1\n",
    "        print(str(count) + \": \" + str(tweet_id))\n",
    "        try:\n",
    "            tweet = api.get_status(tweet_id, tweet_mode='extended')\n",
    "            print(\"Success\")\n",
    "            json.dump(tweet._json, outfile)\n",
    "            outfile.write('\\n')\n",
    "        except tweepy.TweepError as e:\n",
    "            print(\"Fail\")\n",
    "            fails_dict[tweet_id] = e\n",
    "            pass\n",
    "end = timer()\n",
    "print(end - start)\n",
    "print(fails_dict)"
   ]
  },
  {
   "cell_type": "code",
   "execution_count": 4,
   "id": "153e1d13",
   "metadata": {},
   "outputs": [],
   "source": [
    "image_predictions_df = pd.read_csv('image_predictions.tsv', sep='\\t')"
   ]
  },
  {
   "cell_type": "code",
   "execution_count": 5,
   "id": "9543ad06",
   "metadata": {},
   "outputs": [],
   "source": [
    "json_data = pd.read_json('tweet-json.txt', lines=True)"
   ]
  },
  {
   "cell_type": "code",
   "execution_count": 6,
   "id": "d787bd5e",
   "metadata": {},
   "outputs": [],
   "source": [
    "final_json_data = json_data[['id', 'retweet_count', 'favorite_count']]"
   ]
  },
  {
   "cell_type": "code",
   "execution_count": null,
   "id": "e3f43195",
   "metadata": {},
   "outputs": [],
   "source": []
  },
  {
   "cell_type": "code",
   "execution_count": null,
   "id": "f8d41765",
   "metadata": {},
   "outputs": [],
   "source": []
  },
  {
   "cell_type": "code",
   "execution_count": null,
   "id": "35ed2a87",
   "metadata": {},
   "outputs": [],
   "source": [
    "image_predictions_df.info()"
   ]
  },
  {
   "cell_type": "code",
   "execution_count": null,
   "id": "40804709",
   "metadata": {},
   "outputs": [],
   "source": []
  },
  {
   "cell_type": "code",
   "execution_count": null,
   "id": "a8b8a17f",
   "metadata": {},
   "outputs": [],
   "source": []
  },
  {
   "cell_type": "code",
   "execution_count": null,
   "id": "8e39a44c",
   "metadata": {},
   "outputs": [],
   "source": [
    "final_json_data.info()"
   ]
  },
  {
   "cell_type": "code",
   "execution_count": null,
   "id": "abb9b9c9",
   "metadata": {},
   "outputs": [],
   "source": []
  },
  {
   "cell_type": "code",
   "execution_count": null,
   "id": "1e8b271d",
   "metadata": {},
   "outputs": [],
   "source": []
  },
  {
   "cell_type": "code",
   "execution_count": null,
   "id": "38fc473b",
   "metadata": {},
   "outputs": [],
   "source": []
  },
  {
   "cell_type": "code",
   "execution_count": null,
   "id": "75ea73e5",
   "metadata": {},
   "outputs": [],
   "source": []
  },
  {
   "cell_type": "code",
   "execution_count": null,
   "id": "45248789",
   "metadata": {},
   "outputs": [],
   "source": []
  },
  {
   "cell_type": "markdown",
   "id": "6933bec9",
   "metadata": {},
   "source": [
    "## Data Assessment - Quality Issues (8)\n",
    "\n",
    "#### Twitter Archive Dataframe\n",
    "- tweet_id column is integer datatype\n",
    "- in_reply_to_status_id is float datatype \n",
    "- in_reply_to_user_id is float datatype\n",
    "- timestamp is object datatype\n",
    "- retweeted_status_id is float datatype\n",
    "- retweeted_status_user_id is float datatype\n",
    "- one of the denominators has a rating of \"0\"\n",
    "- many of the dog names are \"none\" or they don't make sense\n"
   ]
  },
  {
   "cell_type": "code",
   "execution_count": null,
   "id": "21be9778",
   "metadata": {},
   "outputs": [],
   "source": []
  },
  {
   "cell_type": "code",
   "execution_count": null,
   "id": "2acdb507",
   "metadata": {},
   "outputs": [],
   "source": []
  },
  {
   "cell_type": "code",
   "execution_count": null,
   "id": "c7a308cb",
   "metadata": {},
   "outputs": [],
   "source": [
    "twitter_archive_df.sample(2)"
   ]
  },
  {
   "cell_type": "code",
   "execution_count": null,
   "id": "f0d89886",
   "metadata": {},
   "outputs": [],
   "source": [
    "twitter_archive_df['rating_denominator'].value_counts()"
   ]
  },
  {
   "cell_type": "code",
   "execution_count": null,
   "id": "f4bf2dc9",
   "metadata": {},
   "outputs": [],
   "source": [
    "twitter_archive_df.info()"
   ]
  },
  {
   "cell_type": "code",
   "execution_count": null,
   "id": "abc9f731",
   "metadata": {},
   "outputs": [],
   "source": [
    "# twitter_archive_df.loc[twitter_archive_df['rating_denominator'] != 10]"
   ]
  },
  {
   "cell_type": "code",
   "execution_count": null,
   "id": "faea7d2c",
   "metadata": {},
   "outputs": [],
   "source": [
    "twitter_archive_df['name'].value_counts()"
   ]
  },
  {
   "cell_type": "code",
   "execution_count": null,
   "id": "b19687c8",
   "metadata": {},
   "outputs": [],
   "source": [
    "twitter_archive_df[twitter_archive_df[\"name\"].duplicated()]"
   ]
  },
  {
   "cell_type": "code",
   "execution_count": null,
   "id": "43fd1347",
   "metadata": {},
   "outputs": [],
   "source": [
    "twitter_archive_df.sample(10)"
   ]
  },
  {
   "cell_type": "code",
   "execution_count": null,
   "id": "a57fc5bb",
   "metadata": {},
   "outputs": [],
   "source": []
  },
  {
   "cell_type": "markdown",
   "id": "cac28c66",
   "metadata": {},
   "source": [
    "## Data Assessment - Tidiness Issues (2)\n",
    "- dog stage should be a single column, not 4\n",
    "- all three tables can be joined into one\n"
   ]
  },
  {
   "cell_type": "code",
   "execution_count": null,
   "id": "43d4c865",
   "metadata": {},
   "outputs": [],
   "source": []
  },
  {
   "cell_type": "code",
   "execution_count": null,
   "id": "746cb067",
   "metadata": {},
   "outputs": [],
   "source": []
  },
  {
   "cell_type": "code",
   "execution_count": null,
   "id": "2ac977b9",
   "metadata": {},
   "outputs": [],
   "source": []
  },
  {
   "cell_type": "code",
   "execution_count": null,
   "id": "0dd08672",
   "metadata": {},
   "outputs": [],
   "source": []
  },
  {
   "cell_type": "markdown",
   "id": "531f48d7",
   "metadata": {},
   "source": [
    "## Cleaning"
   ]
  },
  {
   "cell_type": "markdown",
   "id": "809e0944",
   "metadata": {},
   "source": [
    "#### Define"
   ]
  },
  {
   "cell_type": "markdown",
   "id": "050e087e",
   "metadata": {},
   "source": [
    "\n",
    "- change tweet_id column to object datatype\n",
    "- change in_reply_to_status_id to object datatype \n",
    "- change in_reply_to_user_id to object datatype\n",
    "- change timestamp to datetime datatype\n",
    "- change retweeted_status_id to object datatype\n",
    "- change retweeted_status_user_id to object datatype\n",
    "- for the row where denominator has a rating of \"0\", change it \"10\"\n",
    "- convert rows (where the dog name is 'None') to np.nan\n",
    "- convert rows (where the dog name begins in lower case) to np.nan\n",
    "- merge dog stage columns into one column\n",
    "- merge all tables into one master table\n"
   ]
  },
  {
   "cell_type": "code",
   "execution_count": null,
   "id": "f5fae26c",
   "metadata": {},
   "outputs": [],
   "source": []
  },
  {
   "cell_type": "markdown",
   "id": "4b3935cb",
   "metadata": {},
   "source": [
    "#### Code"
   ]
  },
  {
   "cell_type": "code",
   "execution_count": 7,
   "id": "3da0e9e5",
   "metadata": {},
   "outputs": [],
   "source": [
    "# 0. make a copy of the dataframe we want to clean, twitter_archive_df\n",
    "twitter_archive_df_clean = twitter_archive_df.copy()"
   ]
  },
  {
   "cell_type": "code",
   "execution_count": 8,
   "id": "e53ef514",
   "metadata": {},
   "outputs": [],
   "source": [
    "# 1. change id columns to object datatype\n",
    "twitter_archive_df_clean = twitter_archive_df_clean.astype({\"tweet_id\": object,\n",
    "                \"in_reply_to_status_id\": object,\n",
    "                \"in_reply_to_user_id\": object,\n",
    "                \"retweeted_status_id\": object,\n",
    "                \"retweeted_status_user_id\": object})"
   ]
  },
  {
   "cell_type": "code",
   "execution_count": 9,
   "id": "20d4fa60",
   "metadata": {},
   "outputs": [],
   "source": [
    "# 2. change timestamp column to datetime datatype\n",
    "twitter_archive_df_clean[\"timestamp\"]= pd.to_datetime(twitter_archive_df_clean[\"timestamp\"])"
   ]
  },
  {
   "cell_type": "code",
   "execution_count": null,
   "id": "5080a1fe",
   "metadata": {},
   "outputs": [],
   "source": []
  },
  {
   "cell_type": "code",
   "execution_count": 11,
   "id": "121f7e5c",
   "metadata": {},
   "outputs": [
    {
     "name": "stdout",
     "output_type": "stream",
     "text": [
      "<class 'pandas.core.frame.DataFrame'>\n",
      "RangeIndex: 2356 entries, 0 to 2355\n",
      "Data columns (total 17 columns):\n",
      " #   Column                      Non-Null Count  Dtype              \n",
      "---  ------                      --------------  -----              \n",
      " 0   tweet_id                    2356 non-null   object             \n",
      " 1   in_reply_to_status_id       78 non-null     object             \n",
      " 2   in_reply_to_user_id         78 non-null     object             \n",
      " 3   timestamp                   2356 non-null   datetime64[ns, UTC]\n",
      " 4   source                      2356 non-null   object             \n",
      " 5   text                        2356 non-null   object             \n",
      " 6   retweeted_status_id         181 non-null    object             \n",
      " 7   retweeted_status_user_id    181 non-null    object             \n",
      " 8   retweeted_status_timestamp  181 non-null    object             \n",
      " 9   expanded_urls               2297 non-null   object             \n",
      " 10  rating_numerator            2356 non-null   int64              \n",
      " 11  rating_denominator          2356 non-null   int64              \n",
      " 12  name                        2356 non-null   object             \n",
      " 13  doggo                       2356 non-null   object             \n",
      " 14  floofer                     2356 non-null   object             \n",
      " 15  pupper                      2356 non-null   object             \n",
      " 16  puppo                       2356 non-null   object             \n",
      "dtypes: datetime64[ns, UTC](1), int64(2), object(14)\n",
      "memory usage: 313.0+ KB\n"
     ]
    }
   ],
   "source": [
    "twitter_archive_df_clean.info()"
   ]
  },
  {
   "cell_type": "code",
   "execution_count": 10,
   "id": "4c2850a1",
   "metadata": {},
   "outputs": [],
   "source": [
    "# 3. for the row where denominator has a rating of \"0\", change it \"10\"\n",
    "twitter_archive_df_clean.at[313,'rating_denominator']=10"
   ]
  },
  {
   "cell_type": "code",
   "execution_count": 11,
   "id": "204304fa",
   "metadata": {},
   "outputs": [],
   "source": [
    "# 4. convert rows (where the dog name begins in lower case) to np.nan\n",
    "# first make a mask\n",
    "mask = twitter_archive_df_clean.name.str.contains('^[a-z]', regex = True)\n",
    "\n",
    "# then change lower case names to nan\n",
    "twitter_archive_df_clean.loc[mask,'name'] = np.nan"
   ]
  },
  {
   "cell_type": "code",
   "execution_count": 12,
   "id": "c58ff7cc",
   "metadata": {},
   "outputs": [],
   "source": [
    "# 5. convert rows (where the dog name is 'None') to np.nan\n",
    "twitter_archive_df_clean.name.replace('None', np.nan, inplace=True)"
   ]
  },
  {
   "cell_type": "code",
   "execution_count": null,
   "id": "00d20d1e",
   "metadata": {},
   "outputs": [],
   "source": [
    "# 6. merge dog stage columns into one column"
   ]
  },
  {
   "cell_type": "code",
   "execution_count": null,
   "id": "48470154",
   "metadata": {},
   "outputs": [],
   "source": [
    "# first, we change cells with 'None' to ''\n",
    "# then, make the new column equal to old column1 + old column2.. etc\n",
    "# finally drop the old columns, and deal with multivalue cells"
   ]
  },
  {
   "cell_type": "code",
   "execution_count": 13,
   "id": "4b73339a",
   "metadata": {},
   "outputs": [],
   "source": [
    "twitter_archive_df_clean.doggo.replace('None', '', inplace=True)\n",
    "twitter_archive_df_clean.floofer.replace('None', '', inplace=True)\n",
    "twitter_archive_df_clean.pupper.replace('None', '', inplace=True)\n",
    "twitter_archive_df_clean.puppo.replace('None', '', inplace=True)"
   ]
  },
  {
   "cell_type": "code",
   "execution_count": 14,
   "id": "227713aa",
   "metadata": {},
   "outputs": [],
   "source": [
    "twitter_archive_df_clean['stage'] = twitter_archive_df_clean.doggo + \\\n",
    "    twitter_archive_df_clean.floofer + \\\n",
    "    twitter_archive_df_clean.pupper + \\\n",
    "    twitter_archive_df_clean.puppo"
   ]
  },
  {
   "cell_type": "code",
   "execution_count": null,
   "id": "ef7402b9",
   "metadata": {},
   "outputs": [],
   "source": [
    "# check on the new column\n",
    "twitter_archive_df_clean.stage.value_counts()"
   ]
  },
  {
   "cell_type": "code",
   "execution_count": null,
   "id": "194996c5",
   "metadata": {},
   "outputs": [],
   "source": []
  },
  {
   "cell_type": "code",
   "execution_count": null,
   "id": "71de0d26",
   "metadata": {},
   "outputs": [],
   "source": [
    "twitter_archive_df_clean.stage.value_counts()"
   ]
  },
  {
   "cell_type": "code",
   "execution_count": null,
   "id": "47d5270e",
   "metadata": {},
   "outputs": [],
   "source": []
  },
  {
   "cell_type": "code",
   "execution_count": null,
   "id": "6b830ecb",
   "metadata": {},
   "outputs": [],
   "source": []
  },
  {
   "cell_type": "code",
   "execution_count": 15,
   "id": "7446298f",
   "metadata": {},
   "outputs": [],
   "source": [
    "\n",
    "# deal with the rows with multiple stage values\n",
    "twitter_archive_df_clean.loc[twitter_archive_df_clean.stage == 'doggopupper'] = 'doggo,pupper'\n",
    "twitter_archive_df_clean.loc[twitter_archive_df_clean.stage == 'doggofloofer'] = 'doggo,fluffer'\n",
    "twitter_archive_df_clean.loc[twitter_archive_df_clean.stage == 'doggopuppo'] = 'doggo,puppo'\n"
   ]
  },
  {
   "cell_type": "code",
   "execution_count": null,
   "id": "6ff1b388",
   "metadata": {},
   "outputs": [],
   "source": [
    "twitter_archive_df_clean.stage.value_counts()"
   ]
  },
  {
   "cell_type": "code",
   "execution_count": null,
   "id": "744518ec",
   "metadata": {},
   "outputs": [],
   "source": []
  },
  {
   "cell_type": "code",
   "execution_count": null,
   "id": "1d177568",
   "metadata": {},
   "outputs": [],
   "source": []
  },
  {
   "cell_type": "code",
   "execution_count": null,
   "id": "6e9db98d",
   "metadata": {},
   "outputs": [],
   "source": [
    "twitter_archive_df_clean.stage.value_counts()"
   ]
  },
  {
   "cell_type": "code",
   "execution_count": null,
   "id": "0d75318c",
   "metadata": {},
   "outputs": [],
   "source": []
  },
  {
   "cell_type": "code",
   "execution_count": null,
   "id": "1b127ad0",
   "metadata": {},
   "outputs": [],
   "source": []
  },
  {
   "cell_type": "code",
   "execution_count": 16,
   "id": "2d362e21",
   "metadata": {},
   "outputs": [],
   "source": [
    "# convert blank name cells to np.nan...but it seems like this turns everything into nan\n",
    "\n",
    "twitter_archive_df_clean.stage.replace('', np.nan, inplace=True)\n",
    "\n",
    "#old code...twitter_archive_df_clean.loc[twitter_archive_df_clean.stage == ''] = np.nan"
   ]
  },
  {
   "cell_type": "code",
   "execution_count": null,
   "id": "7cc2353a",
   "metadata": {},
   "outputs": [],
   "source": []
  },
  {
   "cell_type": "code",
   "execution_count": 17,
   "id": "19fd0a3e",
   "metadata": {},
   "outputs": [],
   "source": [
    "# drop old columns\n",
    "twitter_archive_df_clean.drop(['doggo', 'floofer', 'pupper', 'puppo'], axis=1, inplace=True)"
   ]
  },
  {
   "cell_type": "code",
   "execution_count": null,
   "id": "285c27cb",
   "metadata": {},
   "outputs": [],
   "source": []
  },
  {
   "cell_type": "code",
   "execution_count": 20,
   "id": "035c0c89",
   "metadata": {},
   "outputs": [
    {
     "name": "stdout",
     "output_type": "stream",
     "text": [
      "<class 'pandas.core.frame.DataFrame'>\n",
      "RangeIndex: 2356 entries, 0 to 2355\n",
      "Data columns (total 14 columns):\n",
      " #   Column                      Non-Null Count  Dtype \n",
      "---  ------                      --------------  ----- \n",
      " 0   tweet_id                    2356 non-null   object\n",
      " 1   in_reply_to_status_id       91 non-null     object\n",
      " 2   in_reply_to_user_id         91 non-null     object\n",
      " 3   timestamp                   2356 non-null   object\n",
      " 4   source                      2356 non-null   object\n",
      " 5   text                        2356 non-null   object\n",
      " 6   retweeted_status_id         193 non-null    object\n",
      " 7   retweeted_status_user_id    193 non-null    object\n",
      " 8   retweeted_status_timestamp  193 non-null    object\n",
      " 9   expanded_urls               2297 non-null   object\n",
      " 10  rating_numerator            2356 non-null   object\n",
      " 11  rating_denominator          2356 non-null   object\n",
      " 12  name                        1512 non-null   object\n",
      " 13  stage                       380 non-null    object\n",
      "dtypes: object(14)\n",
      "memory usage: 257.8+ KB\n"
     ]
    }
   ],
   "source": [
    "twitter_archive_df_clean.info()"
   ]
  },
  {
   "cell_type": "code",
   "execution_count": null,
   "id": "a9889ec7",
   "metadata": {},
   "outputs": [],
   "source": [
    "# 7. merge all tables into one master table"
   ]
  },
  {
   "cell_type": "code",
   "execution_count": 18,
   "id": "50b2af3d",
   "metadata": {},
   "outputs": [],
   "source": [
    "# first change tweet id columns to object datatype (in the other tables)\n",
    "final_json_data = final_json_data.astype({'id': 'object'})\n",
    "image_predictions_df = image_predictions_df.astype({'tweet_id': 'object'})\n"
   ]
  },
  {
   "cell_type": "code",
   "execution_count": 19,
   "id": "4f1cc574",
   "metadata": {},
   "outputs": [],
   "source": [
    "# for consistency, change 'id' in json_data_df to 'tweet_id'\n",
    "final_json_data.rename(columns = {'id':'tweet_id'}, inplace = True)"
   ]
  },
  {
   "cell_type": "code",
   "execution_count": null,
   "id": "a202c714",
   "metadata": {},
   "outputs": [],
   "source": []
  },
  {
   "cell_type": "code",
   "execution_count": 20,
   "id": "6193a871",
   "metadata": {},
   "outputs": [
    {
     "data": {
      "text/html": [
       "<div>\n",
       "<style scoped>\n",
       "    .dataframe tbody tr th:only-of-type {\n",
       "        vertical-align: middle;\n",
       "    }\n",
       "\n",
       "    .dataframe tbody tr th {\n",
       "        vertical-align: top;\n",
       "    }\n",
       "\n",
       "    .dataframe thead th {\n",
       "        text-align: right;\n",
       "    }\n",
       "</style>\n",
       "<table border=\"1\" class=\"dataframe\">\n",
       "  <thead>\n",
       "    <tr style=\"text-align: right;\">\n",
       "      <th></th>\n",
       "      <th>tweet_id</th>\n",
       "      <th>jpg_url</th>\n",
       "      <th>img_num</th>\n",
       "      <th>p1</th>\n",
       "      <th>p1_conf</th>\n",
       "      <th>p1_dog</th>\n",
       "      <th>p2</th>\n",
       "      <th>p2_conf</th>\n",
       "      <th>p2_dog</th>\n",
       "      <th>p3</th>\n",
       "      <th>p3_conf</th>\n",
       "      <th>p3_dog</th>\n",
       "      <th>retweet_count</th>\n",
       "      <th>favorite_count</th>\n",
       "    </tr>\n",
       "  </thead>\n",
       "  <tbody>\n",
       "    <tr>\n",
       "      <th>0</th>\n",
       "      <td>666020888022790149</td>\n",
       "      <td>https://pbs.twimg.com/media/CT4udn0WwAA0aMy.jpg</td>\n",
       "      <td>1</td>\n",
       "      <td>Welsh_springer_spaniel</td>\n",
       "      <td>0.465074</td>\n",
       "      <td>True</td>\n",
       "      <td>collie</td>\n",
       "      <td>0.156665</td>\n",
       "      <td>True</td>\n",
       "      <td>Shetland_sheepdog</td>\n",
       "      <td>0.061428</td>\n",
       "      <td>True</td>\n",
       "      <td>532</td>\n",
       "      <td>2535</td>\n",
       "    </tr>\n",
       "    <tr>\n",
       "      <th>1</th>\n",
       "      <td>666029285002620928</td>\n",
       "      <td>https://pbs.twimg.com/media/CT42GRgUYAA5iDo.jpg</td>\n",
       "      <td>1</td>\n",
       "      <td>redbone</td>\n",
       "      <td>0.506826</td>\n",
       "      <td>True</td>\n",
       "      <td>miniature_pinscher</td>\n",
       "      <td>0.074192</td>\n",
       "      <td>True</td>\n",
       "      <td>Rhodesian_ridgeback</td>\n",
       "      <td>0.072010</td>\n",
       "      <td>True</td>\n",
       "      <td>48</td>\n",
       "      <td>132</td>\n",
       "    </tr>\n",
       "    <tr>\n",
       "      <th>2</th>\n",
       "      <td>666033412701032449</td>\n",
       "      <td>https://pbs.twimg.com/media/CT4521TWwAEvMyu.jpg</td>\n",
       "      <td>1</td>\n",
       "      <td>German_shepherd</td>\n",
       "      <td>0.596461</td>\n",
       "      <td>True</td>\n",
       "      <td>malinois</td>\n",
       "      <td>0.138584</td>\n",
       "      <td>True</td>\n",
       "      <td>bloodhound</td>\n",
       "      <td>0.116197</td>\n",
       "      <td>True</td>\n",
       "      <td>47</td>\n",
       "      <td>128</td>\n",
       "    </tr>\n",
       "    <tr>\n",
       "      <th>3</th>\n",
       "      <td>666044226329800704</td>\n",
       "      <td>https://pbs.twimg.com/media/CT5Dr8HUEAA-lEu.jpg</td>\n",
       "      <td>1</td>\n",
       "      <td>Rhodesian_ridgeback</td>\n",
       "      <td>0.408143</td>\n",
       "      <td>True</td>\n",
       "      <td>redbone</td>\n",
       "      <td>0.360687</td>\n",
       "      <td>True</td>\n",
       "      <td>miniature_pinscher</td>\n",
       "      <td>0.222752</td>\n",
       "      <td>True</td>\n",
       "      <td>147</td>\n",
       "      <td>311</td>\n",
       "    </tr>\n",
       "    <tr>\n",
       "      <th>4</th>\n",
       "      <td>666049248165822465</td>\n",
       "      <td>https://pbs.twimg.com/media/CT5IQmsXIAAKY4A.jpg</td>\n",
       "      <td>1</td>\n",
       "      <td>miniature_pinscher</td>\n",
       "      <td>0.560311</td>\n",
       "      <td>True</td>\n",
       "      <td>Rottweiler</td>\n",
       "      <td>0.243682</td>\n",
       "      <td>True</td>\n",
       "      <td>Doberman</td>\n",
       "      <td>0.154629</td>\n",
       "      <td>True</td>\n",
       "      <td>41</td>\n",
       "      <td>111</td>\n",
       "    </tr>\n",
       "  </tbody>\n",
       "</table>\n",
       "</div>"
      ],
      "text/plain": [
       "             tweet_id                                          jpg_url  \\\n",
       "0  666020888022790149  https://pbs.twimg.com/media/CT4udn0WwAA0aMy.jpg   \n",
       "1  666029285002620928  https://pbs.twimg.com/media/CT42GRgUYAA5iDo.jpg   \n",
       "2  666033412701032449  https://pbs.twimg.com/media/CT4521TWwAEvMyu.jpg   \n",
       "3  666044226329800704  https://pbs.twimg.com/media/CT5Dr8HUEAA-lEu.jpg   \n",
       "4  666049248165822465  https://pbs.twimg.com/media/CT5IQmsXIAAKY4A.jpg   \n",
       "\n",
       "   img_num                      p1   p1_conf  p1_dog                  p2  \\\n",
       "0        1  Welsh_springer_spaniel  0.465074    True              collie   \n",
       "1        1                 redbone  0.506826    True  miniature_pinscher   \n",
       "2        1         German_shepherd  0.596461    True            malinois   \n",
       "3        1     Rhodesian_ridgeback  0.408143    True             redbone   \n",
       "4        1      miniature_pinscher  0.560311    True          Rottweiler   \n",
       "\n",
       "    p2_conf  p2_dog                   p3   p3_conf  p3_dog  retweet_count  \\\n",
       "0  0.156665    True    Shetland_sheepdog  0.061428    True            532   \n",
       "1  0.074192    True  Rhodesian_ridgeback  0.072010    True             48   \n",
       "2  0.138584    True           bloodhound  0.116197    True             47   \n",
       "3  0.360687    True   miniature_pinscher  0.222752    True            147   \n",
       "4  0.243682    True             Doberman  0.154629    True             41   \n",
       "\n",
       "   favorite_count  \n",
       "0            2535  \n",
       "1             132  \n",
       "2             128  \n",
       "3             311  \n",
       "4             111  "
      ]
     },
     "execution_count": 20,
     "metadata": {},
     "output_type": "execute_result"
    }
   ],
   "source": [
    "# merge final_json_data and image_predictions_df\n",
    "result_1 = pd.merge(image_predictions_df,final_json_data,on='tweet_id')\n",
    "result_1.head()"
   ]
  },
  {
   "cell_type": "code",
   "execution_count": 22,
   "id": "7c56a3cf",
   "metadata": {},
   "outputs": [],
   "source": [
    "# merge twitter_archive_df_clean and 'result_1' into master_df\n",
    "master_df = pd.merge(twitter_archive_df_clean,result_1,on='tweet_id')\n"
   ]
  },
  {
   "cell_type": "code",
   "execution_count": 23,
   "id": "6ccfd1c7",
   "metadata": {},
   "outputs": [
    {
     "name": "stdout",
     "output_type": "stream",
     "text": [
      "<class 'pandas.core.frame.DataFrame'>\n",
      "Int64Index: 2060 entries, 0 to 2059\n",
      "Data columns (total 27 columns):\n",
      " #   Column                      Non-Null Count  Dtype  \n",
      "---  ------                      --------------  -----  \n",
      " 0   tweet_id                    2060 non-null   object \n",
      " 1   in_reply_to_status_id       22 non-null     object \n",
      " 2   in_reply_to_user_id         22 non-null     object \n",
      " 3   timestamp                   2060 non-null   object \n",
      " 4   source                      2060 non-null   object \n",
      " 5   text                        2060 non-null   object \n",
      " 6   retweeted_status_id         77 non-null     object \n",
      " 7   retweeted_status_user_id    77 non-null     object \n",
      " 8   retweeted_status_timestamp  77 non-null     object \n",
      " 9   expanded_urls               2060 non-null   object \n",
      " 10  rating_numerator            2060 non-null   object \n",
      " 11  rating_denominator          2060 non-null   object \n",
      " 12  name                        1392 non-null   object \n",
      " 13  stage                       307 non-null    object \n",
      " 14  jpg_url                     2060 non-null   object \n",
      " 15  img_num                     2060 non-null   int64  \n",
      " 16  p1                          2060 non-null   object \n",
      " 17  p1_conf                     2060 non-null   float64\n",
      " 18  p1_dog                      2060 non-null   bool   \n",
      " 19  p2                          2060 non-null   object \n",
      " 20  p2_conf                     2060 non-null   float64\n",
      " 21  p2_dog                      2060 non-null   bool   \n",
      " 22  p3                          2060 non-null   object \n",
      " 23  p3_conf                     2060 non-null   float64\n",
      " 24  p3_dog                      2060 non-null   bool   \n",
      " 25  retweet_count               2060 non-null   int64  \n",
      " 26  favorite_count              2060 non-null   int64  \n",
      "dtypes: bool(3), float64(3), int64(3), object(18)\n",
      "memory usage: 408.4+ KB\n"
     ]
    }
   ],
   "source": [
    "master_df.info()"
   ]
  },
  {
   "cell_type": "code",
   "execution_count": 24,
   "id": "468639b2",
   "metadata": {},
   "outputs": [
    {
     "name": "stdout",
     "output_type": "stream",
     "text": [
      "<class 'pandas.core.frame.DataFrame'>\n",
      "RangeIndex: 2356 entries, 0 to 2355\n",
      "Data columns (total 14 columns):\n",
      " #   Column                      Non-Null Count  Dtype \n",
      "---  ------                      --------------  ----- \n",
      " 0   tweet_id                    2356 non-null   object\n",
      " 1   in_reply_to_status_id       91 non-null     object\n",
      " 2   in_reply_to_user_id         91 non-null     object\n",
      " 3   timestamp                   2356 non-null   object\n",
      " 4   source                      2356 non-null   object\n",
      " 5   text                        2356 non-null   object\n",
      " 6   retweeted_status_id         193 non-null    object\n",
      " 7   retweeted_status_user_id    193 non-null    object\n",
      " 8   retweeted_status_timestamp  193 non-null    object\n",
      " 9   expanded_urls               2297 non-null   object\n",
      " 10  rating_numerator            2356 non-null   object\n",
      " 11  rating_denominator          2356 non-null   object\n",
      " 12  name                        1512 non-null   object\n",
      " 13  stage                       380 non-null    object\n",
      "dtypes: object(14)\n",
      "memory usage: 257.8+ KB\n"
     ]
    }
   ],
   "source": [
    "twitter_archive_df_clean.info()"
   ]
  },
  {
   "cell_type": "code",
   "execution_count": null,
   "id": "4cf65c6a",
   "metadata": {},
   "outputs": [],
   "source": []
  },
  {
   "cell_type": "code",
   "execution_count": null,
   "id": "74f242eb",
   "metadata": {},
   "outputs": [],
   "source": []
  },
  {
   "cell_type": "code",
   "execution_count": 24,
   "id": "0b3d5ed5",
   "metadata": {},
   "outputs": [
    {
     "data": {
      "text/html": [
       "<div>\n",
       "<style scoped>\n",
       "    .dataframe tbody tr th:only-of-type {\n",
       "        vertical-align: middle;\n",
       "    }\n",
       "\n",
       "    .dataframe tbody tr th {\n",
       "        vertical-align: top;\n",
       "    }\n",
       "\n",
       "    .dataframe thead th {\n",
       "        text-align: right;\n",
       "    }\n",
       "</style>\n",
       "<table border=\"1\" class=\"dataframe\">\n",
       "  <thead>\n",
       "    <tr style=\"text-align: right;\">\n",
       "      <th></th>\n",
       "      <th>tweet_id</th>\n",
       "      <th>in_reply_to_status_id</th>\n",
       "      <th>in_reply_to_user_id</th>\n",
       "      <th>timestamp</th>\n",
       "      <th>source</th>\n",
       "      <th>text</th>\n",
       "      <th>retweeted_status_id</th>\n",
       "      <th>retweeted_status_user_id</th>\n",
       "      <th>retweeted_status_timestamp</th>\n",
       "      <th>expanded_urls</th>\n",
       "      <th>...</th>\n",
       "      <th>p1_conf</th>\n",
       "      <th>p1_dog</th>\n",
       "      <th>p2</th>\n",
       "      <th>p2_conf</th>\n",
       "      <th>p2_dog</th>\n",
       "      <th>p3</th>\n",
       "      <th>p3_conf</th>\n",
       "      <th>p3_dog</th>\n",
       "      <th>retweet_count</th>\n",
       "      <th>favorite_count</th>\n",
       "    </tr>\n",
       "  </thead>\n",
       "  <tbody>\n",
       "    <tr>\n",
       "      <th>874</th>\n",
       "      <td>739238157791694849</td>\n",
       "      <td>NaN</td>\n",
       "      <td>NaN</td>\n",
       "      <td>2016-06-04 23:31:25+00:00</td>\n",
       "      <td>&lt;a href=\"http://twitter.com/download/iphone\" r...</td>\n",
       "      <td>Here's a doggo blowing bubbles. It's downright...</td>\n",
       "      <td>NaN</td>\n",
       "      <td>NaN</td>\n",
       "      <td>NaN</td>\n",
       "      <td>https://twitter.com/dog_rates/status/739238157...</td>\n",
       "      <td>...</td>\n",
       "      <td>0.503372</td>\n",
       "      <td>True</td>\n",
       "      <td>Siberian_husky</td>\n",
       "      <td>0.390413</td>\n",
       "      <td>True</td>\n",
       "      <td>malamute</td>\n",
       "      <td>0.080901</td>\n",
       "      <td>True</td>\n",
       "      <td>52360</td>\n",
       "      <td>75163</td>\n",
       "    </tr>\n",
       "    <tr>\n",
       "      <th>55</th>\n",
       "      <td>880221127280381952</td>\n",
       "      <td>NaN</td>\n",
       "      <td>NaN</td>\n",
       "      <td>2017-06-29 00:27:25+00:00</td>\n",
       "      <td>&lt;a href=\"http://twitter.com/download/iphone\" r...</td>\n",
       "      <td>Meet Jesse. He's a Fetty Woof. His tongue ejec...</td>\n",
       "      <td>NaN</td>\n",
       "      <td>NaN</td>\n",
       "      <td>NaN</td>\n",
       "      <td>https://twitter.com/dog_rates/status/880221127...</td>\n",
       "      <td>...</td>\n",
       "      <td>0.238525</td>\n",
       "      <td>True</td>\n",
       "      <td>meerkat</td>\n",
       "      <td>0.104256</td>\n",
       "      <td>False</td>\n",
       "      <td>clumber</td>\n",
       "      <td>0.052580</td>\n",
       "      <td>True</td>\n",
       "      <td>4436</td>\n",
       "      <td>27640</td>\n",
       "    </tr>\n",
       "    <tr>\n",
       "      <th>581</th>\n",
       "      <td>781661882474196992</td>\n",
       "      <td>NaN</td>\n",
       "      <td>NaN</td>\n",
       "      <td>2016-09-30 01:08:10+00:00</td>\n",
       "      <td>&lt;a href=\"http://twitter.com/download/iphone\" r...</td>\n",
       "      <td>Who keeps sending in pictures without dogs in ...</td>\n",
       "      <td>NaN</td>\n",
       "      <td>NaN</td>\n",
       "      <td>NaN</td>\n",
       "      <td>https://twitter.com/dog_rates/status/781661882...</td>\n",
       "      <td>...</td>\n",
       "      <td>0.438087</td>\n",
       "      <td>True</td>\n",
       "      <td>golden_retriever</td>\n",
       "      <td>0.226954</td>\n",
       "      <td>True</td>\n",
       "      <td>collie</td>\n",
       "      <td>0.070652</td>\n",
       "      <td>True</td>\n",
       "      <td>3129</td>\n",
       "      <td>11634</td>\n",
       "    </tr>\n",
       "  </tbody>\n",
       "</table>\n",
       "<p>3 rows × 27 columns</p>\n",
       "</div>"
      ],
      "text/plain": [
       "               tweet_id in_reply_to_status_id in_reply_to_user_id  \\\n",
       "874  739238157791694849                   NaN                 NaN   \n",
       "55   880221127280381952                   NaN                 NaN   \n",
       "581  781661882474196992                   NaN                 NaN   \n",
       "\n",
       "                     timestamp  \\\n",
       "874  2016-06-04 23:31:25+00:00   \n",
       "55   2017-06-29 00:27:25+00:00   \n",
       "581  2016-09-30 01:08:10+00:00   \n",
       "\n",
       "                                                source  \\\n",
       "874  <a href=\"http://twitter.com/download/iphone\" r...   \n",
       "55   <a href=\"http://twitter.com/download/iphone\" r...   \n",
       "581  <a href=\"http://twitter.com/download/iphone\" r...   \n",
       "\n",
       "                                                  text retweeted_status_id  \\\n",
       "874  Here's a doggo blowing bubbles. It's downright...                 NaN   \n",
       "55   Meet Jesse. He's a Fetty Woof. His tongue ejec...                 NaN   \n",
       "581  Who keeps sending in pictures without dogs in ...                 NaN   \n",
       "\n",
       "    retweeted_status_user_id retweeted_status_timestamp  \\\n",
       "874                      NaN                        NaN   \n",
       "55                       NaN                        NaN   \n",
       "581                      NaN                        NaN   \n",
       "\n",
       "                                         expanded_urls  ...   p1_conf p1_dog  \\\n",
       "874  https://twitter.com/dog_rates/status/739238157...  ...  0.503372   True   \n",
       "55   https://twitter.com/dog_rates/status/880221127...  ...  0.238525   True   \n",
       "581  https://twitter.com/dog_rates/status/781661882...  ...  0.438087   True   \n",
       "\n",
       "                   p2   p2_conf p2_dog        p3   p3_conf  p3_dog  \\\n",
       "874    Siberian_husky  0.390413   True  malamute  0.080901    True   \n",
       "55            meerkat  0.104256  False   clumber  0.052580    True   \n",
       "581  golden_retriever  0.226954   True    collie  0.070652    True   \n",
       "\n",
       "     retweet_count favorite_count  \n",
       "874          52360          75163  \n",
       "55            4436          27640  \n",
       "581           3129          11634  \n",
       "\n",
       "[3 rows x 27 columns]"
      ]
     },
     "execution_count": 24,
     "metadata": {},
     "output_type": "execute_result"
    }
   ],
   "source": [
    "master_df.sample(3)"
   ]
  },
  {
   "cell_type": "code",
   "execution_count": null,
   "id": "a7f330fd",
   "metadata": {},
   "outputs": [],
   "source": []
  },
  {
   "cell_type": "code",
   "execution_count": 25,
   "id": "5d28c2af",
   "metadata": {},
   "outputs": [
    {
     "data": {
      "text/plain": [
       "0"
      ]
     },
     "execution_count": 25,
     "metadata": {},
     "output_type": "execute_result"
    }
   ],
   "source": [
    "master_df.tweet_id.duplicated().sum()"
   ]
  },
  {
   "cell_type": "code",
   "execution_count": null,
   "id": "c518590e",
   "metadata": {},
   "outputs": [],
   "source": []
  },
  {
   "cell_type": "code",
   "execution_count": null,
   "id": "52258c78",
   "metadata": {},
   "outputs": [],
   "source": []
  },
  {
   "cell_type": "code",
   "execution_count": 24,
   "id": "0836e2ee",
   "metadata": {},
   "outputs": [],
   "source": [
    "# 2. change timestamp column to datetime datatype\n",
    "master_df[\"timestamp\"]= pd.to_datetime(master_df[\"timestamp\"])"
   ]
  },
  {
   "cell_type": "code",
   "execution_count": 25,
   "id": "87961428",
   "metadata": {},
   "outputs": [
    {
     "name": "stdout",
     "output_type": "stream",
     "text": [
      "<class 'pandas.core.frame.DataFrame'>\n",
      "Int64Index: 2060 entries, 0 to 2059\n",
      "Data columns (total 27 columns):\n",
      " #   Column                      Non-Null Count  Dtype              \n",
      "---  ------                      --------------  -----              \n",
      " 0   tweet_id                    2060 non-null   object             \n",
      " 1   in_reply_to_status_id       22 non-null     object             \n",
      " 2   in_reply_to_user_id         22 non-null     object             \n",
      " 3   timestamp                   2060 non-null   datetime64[ns, UTC]\n",
      " 4   source                      2060 non-null   object             \n",
      " 5   text                        2060 non-null   object             \n",
      " 6   retweeted_status_id         77 non-null     object             \n",
      " 7   retweeted_status_user_id    77 non-null     object             \n",
      " 8   retweeted_status_timestamp  77 non-null     object             \n",
      " 9   expanded_urls               2060 non-null   object             \n",
      " 10  rating_numerator            2060 non-null   object             \n",
      " 11  rating_denominator          2060 non-null   object             \n",
      " 12  name                        1392 non-null   object             \n",
      " 13  stage                       307 non-null    object             \n",
      " 14  jpg_url                     2060 non-null   object             \n",
      " 15  img_num                     2060 non-null   int64              \n",
      " 16  p1                          2060 non-null   object             \n",
      " 17  p1_conf                     2060 non-null   float64            \n",
      " 18  p1_dog                      2060 non-null   bool               \n",
      " 19  p2                          2060 non-null   object             \n",
      " 20  p2_conf                     2060 non-null   float64            \n",
      " 21  p2_dog                      2060 non-null   bool               \n",
      " 22  p3                          2060 non-null   object             \n",
      " 23  p3_conf                     2060 non-null   float64            \n",
      " 24  p3_dog                      2060 non-null   bool               \n",
      " 25  retweet_count               2060 non-null   int64              \n",
      " 26  favorite_count              2060 non-null   int64              \n",
      "dtypes: bool(3), datetime64[ns, UTC](1), float64(3), int64(3), object(17)\n",
      "memory usage: 408.4+ KB\n"
     ]
    }
   ],
   "source": [
    "master_df.info()"
   ]
  },
  {
   "cell_type": "code",
   "execution_count": null,
   "id": "8fb4e23e",
   "metadata": {},
   "outputs": [],
   "source": []
  },
  {
   "cell_type": "markdown",
   "id": "3c887b00",
   "metadata": {},
   "source": [
    "#### Test"
   ]
  },
  {
   "cell_type": "code",
   "execution_count": null,
   "id": "2b97df9b",
   "metadata": {},
   "outputs": [],
   "source": [
    "# 0. \n",
    "twitter_archive_df_clean.head(3)"
   ]
  },
  {
   "cell_type": "code",
   "execution_count": 17,
   "id": "6304577f",
   "metadata": {},
   "outputs": [
    {
     "name": "stdout",
     "output_type": "stream",
     "text": [
      "tweet_id                      object\n",
      "in_reply_to_status_id         object\n",
      "in_reply_to_user_id           object\n",
      "timestamp                     object\n",
      "source                        object\n",
      "text                          object\n",
      "retweeted_status_id           object\n",
      "retweeted_status_user_id      object\n",
      "retweeted_status_timestamp    object\n",
      "expanded_urls                 object\n",
      "rating_numerator               int64\n",
      "rating_denominator             int64\n",
      "name                          object\n",
      "doggo                         object\n",
      "floofer                       object\n",
      "pupper                        object\n",
      "puppo                         object\n",
      "dtype: object\n"
     ]
    }
   ],
   "source": [
    "# 1. change id columns to object datatype\n",
    "print(twitter_archive_df_clean.dtypes)"
   ]
  },
  {
   "cell_type": "code",
   "execution_count": 14,
   "id": "982d1bfd",
   "metadata": {},
   "outputs": [
    {
     "name": "stdout",
     "output_type": "stream",
     "text": [
      "<class 'pandas.core.frame.DataFrame'>\n",
      "RangeIndex: 2356 entries, 0 to 2355\n",
      "Data columns (total 17 columns):\n",
      " #   Column                      Non-Null Count  Dtype              \n",
      "---  ------                      --------------  -----              \n",
      " 0   tweet_id                    2356 non-null   object             \n",
      " 1   in_reply_to_status_id       78 non-null     object             \n",
      " 2   in_reply_to_user_id         78 non-null     object             \n",
      " 3   timestamp                   2356 non-null   datetime64[ns, UTC]\n",
      " 4   source                      2356 non-null   object             \n",
      " 5   text                        2356 non-null   object             \n",
      " 6   retweeted_status_id         181 non-null    object             \n",
      " 7   retweeted_status_user_id    181 non-null    object             \n",
      " 8   retweeted_status_timestamp  181 non-null    object             \n",
      " 9   expanded_urls               2297 non-null   object             \n",
      " 10  rating_numerator            2356 non-null   int64              \n",
      " 11  rating_denominator          2356 non-null   int64              \n",
      " 12  name                        2356 non-null   object             \n",
      " 13  doggo                       2356 non-null   object             \n",
      " 14  floofer                     2356 non-null   object             \n",
      " 15  pupper                      2356 non-null   object             \n",
      " 16  puppo                       2356 non-null   object             \n",
      "dtypes: datetime64[ns, UTC](1), int64(2), object(14)\n",
      "memory usage: 313.0+ KB\n"
     ]
    }
   ],
   "source": [
    "2.\n",
    "twitter_archive_df_clean.info()"
   ]
  },
  {
   "cell_type": "code",
   "execution_count": 8,
   "id": "776e3ee3",
   "metadata": {},
   "outputs": [
    {
     "ename": "NameError",
     "evalue": "name 'twitter_archive_df_clean' is not defined",
     "output_type": "error",
     "traceback": [
      "\u001b[1;31m---------------------------------------------------------------------------\u001b[0m",
      "\u001b[1;31mNameError\u001b[0m                                 Traceback (most recent call last)",
      "\u001b[1;32m<ipython-input-8-0e66c717bc6c>\u001b[0m in \u001b[0;36m<module>\u001b[1;34m\u001b[0m\n\u001b[0;32m      1\u001b[0m \u001b[1;31m# 3. for the row where denominator has a rating of \"0\", change it \"10\"\u001b[0m\u001b[1;33m\u001b[0m\u001b[1;33m\u001b[0m\u001b[1;33m\u001b[0m\u001b[0m\n\u001b[1;32m----> 2\u001b[1;33m \u001b[0mtwitter_archive_df_clean\u001b[0m\u001b[1;33m.\u001b[0m\u001b[0mloc\u001b[0m\u001b[1;33m[\u001b[0m\u001b[1;33m[\u001b[0m\u001b[1;36m313\u001b[0m\u001b[1;33m]\u001b[0m\u001b[1;33m]\u001b[0m\u001b[1;33m\u001b[0m\u001b[1;33m\u001b[0m\u001b[0m\n\u001b[0m",
      "\u001b[1;31mNameError\u001b[0m: name 'twitter_archive_df_clean' is not defined"
     ]
    }
   ],
   "source": [
    "# 3. for the row where denominator has a rating of \"0\", change it \"10\"\n",
    "twitter_archive_df_clean.loc[[313]]"
   ]
  },
  {
   "cell_type": "code",
   "execution_count": null,
   "id": "c3cc15ff",
   "metadata": {},
   "outputs": [],
   "source": []
  },
  {
   "cell_type": "code",
   "execution_count": 13,
   "id": "e2cbb0c0",
   "metadata": {},
   "outputs": [
    {
     "data": {
      "text/html": [
       "<div>\n",
       "<style scoped>\n",
       "    .dataframe tbody tr th:only-of-type {\n",
       "        vertical-align: middle;\n",
       "    }\n",
       "\n",
       "    .dataframe tbody tr th {\n",
       "        vertical-align: top;\n",
       "    }\n",
       "\n",
       "    .dataframe thead th {\n",
       "        text-align: right;\n",
       "    }\n",
       "</style>\n",
       "<table border=\"1\" class=\"dataframe\">\n",
       "  <thead>\n",
       "    <tr style=\"text-align: right;\">\n",
       "      <th></th>\n",
       "      <th>tweet_id</th>\n",
       "      <th>in_reply_to_status_id</th>\n",
       "      <th>in_reply_to_user_id</th>\n",
       "      <th>timestamp</th>\n",
       "      <th>source</th>\n",
       "      <th>text</th>\n",
       "      <th>retweeted_status_id</th>\n",
       "      <th>retweeted_status_user_id</th>\n",
       "      <th>retweeted_status_timestamp</th>\n",
       "      <th>expanded_urls</th>\n",
       "      <th>rating_numerator</th>\n",
       "      <th>rating_denominator</th>\n",
       "      <th>name</th>\n",
       "      <th>doggo</th>\n",
       "      <th>floofer</th>\n",
       "      <th>pupper</th>\n",
       "      <th>puppo</th>\n",
       "    </tr>\n",
       "  </thead>\n",
       "  <tbody>\n",
       "  </tbody>\n",
       "</table>\n",
       "</div>"
      ],
      "text/plain": [
       "Empty DataFrame\n",
       "Columns: [tweet_id, in_reply_to_status_id, in_reply_to_user_id, timestamp, source, text, retweeted_status_id, retweeted_status_user_id, retweeted_status_timestamp, expanded_urls, rating_numerator, rating_denominator, name, doggo, floofer, pupper, puppo]\n",
       "Index: []"
      ]
     },
     "execution_count": 13,
     "metadata": {},
     "output_type": "execute_result"
    }
   ],
   "source": [
    "# 4. convert rows (where the dog name is 'None') to np.nan\n",
    "twitter_archive_df_clean.loc[twitter_archive_df_clean['name']==\"None\"]"
   ]
  },
  {
   "cell_type": "code",
   "execution_count": null,
   "id": "e0c1eb47",
   "metadata": {},
   "outputs": [],
   "source": []
  },
  {
   "cell_type": "code",
   "execution_count": null,
   "id": "8d84de56",
   "metadata": {},
   "outputs": [],
   "source": []
  },
  {
   "cell_type": "code",
   "execution_count": null,
   "id": "ad10f16f",
   "metadata": {},
   "outputs": [],
   "source": []
  },
  {
   "cell_type": "code",
   "execution_count": null,
   "id": "0a983e47",
   "metadata": {},
   "outputs": [],
   "source": []
  },
  {
   "cell_type": "code",
   "execution_count": 30,
   "id": "4e22fe2f",
   "metadata": {},
   "outputs": [
    {
     "data": {
      "text/html": [
       "<div>\n",
       "<style scoped>\n",
       "    .dataframe tbody tr th:only-of-type {\n",
       "        vertical-align: middle;\n",
       "    }\n",
       "\n",
       "    .dataframe tbody tr th {\n",
       "        vertical-align: top;\n",
       "    }\n",
       "\n",
       "    .dataframe thead th {\n",
       "        text-align: right;\n",
       "    }\n",
       "</style>\n",
       "<table border=\"1\" class=\"dataframe\">\n",
       "  <thead>\n",
       "    <tr style=\"text-align: right;\">\n",
       "      <th></th>\n",
       "      <th>name</th>\n",
       "      <th>stage</th>\n",
       "    </tr>\n",
       "  </thead>\n",
       "  <tbody>\n",
       "    <tr>\n",
       "      <th>1369</th>\n",
       "      <td>Rudy</td>\n",
       "      <td>NaN</td>\n",
       "    </tr>\n",
       "    <tr>\n",
       "      <th>1145</th>\n",
       "      <td>Karll</td>\n",
       "      <td>NaN</td>\n",
       "    </tr>\n",
       "    <tr>\n",
       "      <th>1262</th>\n",
       "      <td>Tater</td>\n",
       "      <td>NaN</td>\n",
       "    </tr>\n",
       "    <tr>\n",
       "      <th>1995</th>\n",
       "      <td>Scott</td>\n",
       "      <td>pupper</td>\n",
       "    </tr>\n",
       "    <tr>\n",
       "      <th>1268</th>\n",
       "      <td>Cecil</td>\n",
       "      <td>NaN</td>\n",
       "    </tr>\n",
       "  </tbody>\n",
       "</table>\n",
       "</div>"
      ],
      "text/plain": [
       "       name   stage\n",
       "1369   Rudy     NaN\n",
       "1145  Karll     NaN\n",
       "1262  Tater     NaN\n",
       "1995  Scott  pupper\n",
       "1268  Cecil     NaN"
      ]
     },
     "execution_count": 30,
     "metadata": {},
     "output_type": "execute_result"
    }
   ],
   "source": [
    "# 6\n",
    "twitter_archive_df_clean[['name','stage']].sample(5)"
   ]
  },
  {
   "cell_type": "code",
   "execution_count": null,
   "id": "0c07a65b",
   "metadata": {},
   "outputs": [],
   "source": []
  },
  {
   "cell_type": "code",
   "execution_count": null,
   "id": "b2ac6ae1",
   "metadata": {},
   "outputs": [],
   "source": []
  },
  {
   "cell_type": "code",
   "execution_count": 54,
   "id": "cdf44c38",
   "metadata": {},
   "outputs": [
    {
     "name": "stdout",
     "output_type": "stream",
     "text": [
      "<class 'pandas.core.frame.DataFrame'>\n",
      "Int64Index: 2060 entries, 0 to 2059\n",
      "Data columns (total 27 columns):\n",
      " #   Column                      Non-Null Count  Dtype  \n",
      "---  ------                      --------------  -----  \n",
      " 0   tweet_id                    2060 non-null   object \n",
      " 1   in_reply_to_status_id       22 non-null     object \n",
      " 2   in_reply_to_user_id         22 non-null     object \n",
      " 3   timestamp                   2060 non-null   object \n",
      " 4   source                      2060 non-null   object \n",
      " 5   text                        2060 non-null   object \n",
      " 6   retweeted_status_id         77 non-null     object \n",
      " 7   retweeted_status_user_id    77 non-null     object \n",
      " 8   retweeted_status_timestamp  77 non-null     object \n",
      " 9   expanded_urls               2060 non-null   object \n",
      " 10  rating_numerator            2060 non-null   object \n",
      " 11  rating_denominator          2060 non-null   object \n",
      " 12  name                        1392 non-null   object \n",
      " 13  stage                       307 non-null    object \n",
      " 14  jpg_url                     2060 non-null   object \n",
      " 15  img_num                     2060 non-null   int64  \n",
      " 16  p1                          2060 non-null   object \n",
      " 17  p1_conf                     2060 non-null   float64\n",
      " 18  p1_dog                      2060 non-null   bool   \n",
      " 19  p2                          2060 non-null   object \n",
      " 20  p2_conf                     2060 non-null   float64\n",
      " 21  p2_dog                      2060 non-null   bool   \n",
      " 22  p3                          2060 non-null   object \n",
      " 23  p3_conf                     2060 non-null   float64\n",
      " 24  p3_dog                      2060 non-null   bool   \n",
      " 25  retweet_count               2060 non-null   int64  \n",
      " 26  favorite_count              2060 non-null   int64  \n",
      "dtypes: bool(3), float64(3), int64(3), object(18)\n",
      "memory usage: 408.4+ KB\n"
     ]
    }
   ],
   "source": [
    "master_df.info()"
   ]
  },
  {
   "cell_type": "code",
   "execution_count": null,
   "id": "88cecb5c",
   "metadata": {},
   "outputs": [],
   "source": []
  },
  {
   "cell_type": "markdown",
   "id": "995f81ac",
   "metadata": {},
   "source": [
    "## Export the master dataframe"
   ]
  },
  {
   "cell_type": "code",
   "execution_count": 22,
   "id": "9d68c1d1",
   "metadata": {},
   "outputs": [],
   "source": [
    "# saving the DataFrame as a CSV file\n",
    "test_file = master_df.to_csv('twitter_archive_master.csv', index = False)"
   ]
  },
  {
   "cell_type": "code",
   "execution_count": 28,
   "id": "550a1e3e",
   "metadata": {},
   "outputs": [],
   "source": [
    "# saving the DataFrame to SQLite db\n",
    "import sqlite3\n",
    "\n",
    "conn = sqlite3.connect('twitter_archive_master_copy.db') \n",
    "master_df.to_sql('master_table', conn, if_exists='replace')"
   ]
  },
  {
   "cell_type": "code",
   "execution_count": null,
   "id": "0c2f9832",
   "metadata": {},
   "outputs": [],
   "source": []
  },
  {
   "cell_type": "code",
   "execution_count": null,
   "id": "96682ea7",
   "metadata": {},
   "outputs": [],
   "source": []
  },
  {
   "cell_type": "markdown",
   "id": "5068ff2d",
   "metadata": {},
   "source": [
    "## Analysis/Insights"
   ]
  },
  {
   "cell_type": "code",
   "execution_count": 26,
   "id": "43b923e8",
   "metadata": {},
   "outputs": [],
   "source": [
    "master_df = master_df.astype({\"rating_numerator\": float,\"rating_denominator\": float})"
   ]
  },
  {
   "cell_type": "code",
   "execution_count": 27,
   "id": "66e3b607",
   "metadata": {},
   "outputs": [],
   "source": [
    "master_df['final_score'] = master_df['rating_numerator'] / master_df['rating_denominator'] "
   ]
  },
  {
   "cell_type": "code",
   "execution_count": 28,
   "id": "03ceab3e",
   "metadata": {},
   "outputs": [],
   "source": [
    "test = master_df.loc[master_df['name']=='Atticus']"
   ]
  },
  {
   "cell_type": "code",
   "execution_count": 29,
   "id": "ae71b7a9",
   "metadata": {},
   "outputs": [
    {
     "data": {
      "text/html": [
       "<div>\n",
       "<style scoped>\n",
       "    .dataframe tbody tr th:only-of-type {\n",
       "        vertical-align: middle;\n",
       "    }\n",
       "\n",
       "    .dataframe tbody tr th {\n",
       "        vertical-align: top;\n",
       "    }\n",
       "\n",
       "    .dataframe thead th {\n",
       "        text-align: right;\n",
       "    }\n",
       "</style>\n",
       "<table border=\"1\" class=\"dataframe\">\n",
       "  <thead>\n",
       "    <tr style=\"text-align: right;\">\n",
       "      <th></th>\n",
       "      <th>timestamp</th>\n",
       "      <th>name</th>\n",
       "      <th>rating_numerator</th>\n",
       "      <th>rating_denominator</th>\n",
       "      <th>stage</th>\n",
       "      <th>tweet_id</th>\n",
       "    </tr>\n",
       "  </thead>\n",
       "  <tbody>\n",
       "    <tr>\n",
       "      <th>791</th>\n",
       "      <td>2016-07-04 15:00:45+00:00</td>\n",
       "      <td>Atticus</td>\n",
       "      <td>1776.0</td>\n",
       "      <td>10.0</td>\n",
       "      <td>NaN</td>\n",
       "      <td>749981277374128128</td>\n",
       "    </tr>\n",
       "    <tr>\n",
       "      <th>818</th>\n",
       "      <td>2016-06-27 00:07:44+00:00</td>\n",
       "      <td>Atticus</td>\n",
       "      <td>11.0</td>\n",
       "      <td>10.0</td>\n",
       "      <td>NaN</td>\n",
       "      <td>747219827526344708</td>\n",
       "    </tr>\n",
       "  </tbody>\n",
       "</table>\n",
       "</div>"
      ],
      "text/plain": [
       "                    timestamp     name  rating_numerator  rating_denominator  \\\n",
       "791 2016-07-04 15:00:45+00:00  Atticus            1776.0                10.0   \n",
       "818 2016-06-27 00:07:44+00:00  Atticus              11.0                10.0   \n",
       "\n",
       "    stage            tweet_id  \n",
       "791   NaN  749981277374128128  \n",
       "818   NaN  747219827526344708  "
      ]
     },
     "execution_count": 29,
     "metadata": {},
     "output_type": "execute_result"
    }
   ],
   "source": [
    "test[['timestamp', 'name',  'rating_numerator', 'rating_denominator', 'stage', 'tweet_id', ]]"
   ]
  },
  {
   "cell_type": "code",
   "execution_count": 41,
   "id": "56aea1a1",
   "metadata": {},
   "outputs": [
    {
     "data": {
      "text/plain": [
       "791     177.600000\n",
       "1782     42.000000\n",
       "552       7.500000\n",
       "412       3.428571\n",
       "607       2.700000\n",
       "Name: final_score, dtype: float64"
      ]
     },
     "execution_count": 41,
     "metadata": {},
     "output_type": "execute_result"
    }
   ],
   "source": [
    "master_df['final_score'].nlargest(5)"
   ]
  },
  {
   "cell_type": "code",
   "execution_count": 48,
   "id": "79473034",
   "metadata": {},
   "outputs": [
    {
     "data": {
      "text/plain": [
       "791     Atticus\n",
       "1782        NaN\n",
       "552       Logan\n",
       "412         Sam\n",
       "607      Sophie\n",
       "Name: name, dtype: object"
      ]
     },
     "execution_count": 48,
     "metadata": {},
     "output_type": "execute_result"
    }
   ],
   "source": [
    "master_df.iloc[['791', '1782','552','412','607']].name"
   ]
  },
  {
   "cell_type": "code",
   "execution_count": null,
   "id": "c9285951",
   "metadata": {},
   "outputs": [],
   "source": []
  }
 ],
 "metadata": {
  "kernelspec": {
   "display_name": "Python 3",
   "language": "python",
   "name": "python3"
  },
  "language_info": {
   "codemirror_mode": {
    "name": "ipython",
    "version": 3
   },
   "file_extension": ".py",
   "mimetype": "text/x-python",
   "name": "python",
   "nbconvert_exporter": "python",
   "pygments_lexer": "ipython3",
   "version": "3.8.8"
  }
 },
 "nbformat": 4,
 "nbformat_minor": 5
}
